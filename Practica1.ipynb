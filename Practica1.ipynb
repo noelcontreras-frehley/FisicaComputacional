{
 "cells": [
  {
   "cell_type": "code",
   "execution_count": 14,
   "id": "141f3451-cc92-45a4-a5fd-bbcb0305a33e",
   "metadata": {},
   "outputs": [],
   "source": [
    "def caida_libre(h):\n",
    "    t= sqrt(2*h/g)\n",
    "    return t "
   ]
  },
  {
   "cell_type": "code",
   "execution_count": 12,
   "id": "94ea4d55-fe6c-48a4-aaf4-acd8085e2edc",
   "metadata": {},
   "outputs": [
    {
     "ename": "NameError",
     "evalue": "name 'sqrt' is not defined",
     "output_type": "error",
     "traceback": [
      "\u001b[1;31m---------------------------------------------------------------------------\u001b[0m",
      "\u001b[1;31mNameError\u001b[0m                                 Traceback (most recent call last)",
      "Cell \u001b[1;32mIn[12], line 1\u001b[0m\n\u001b[1;32m----> 1\u001b[0m caida_libre(\u001b[38;5;241m100\u001b[39m)\n",
      "Cell \u001b[1;32mIn[3], line 2\u001b[0m, in \u001b[0;36mcaida_libre\u001b[1;34m(h)\u001b[0m\n\u001b[0;32m      1\u001b[0m \u001b[38;5;28;01mdef\u001b[39;00m \u001b[38;5;21mcaida_libre\u001b[39m(h):\n\u001b[1;32m----> 2\u001b[0m     t\u001b[38;5;241m=\u001b[39m sqrt(\u001b[38;5;241m2\u001b[39m\u001b[38;5;241m*\u001b[39mh\u001b[38;5;241m/\u001b[39mg)\n\u001b[0;32m      3\u001b[0m     \u001b[38;5;28;01mreturn\u001b[39;00m t\n",
      "\u001b[1;31mNameError\u001b[0m: name 'sqrt' is not defined"
     ]
    }
   ],
   "source": [
    "caida_libre(100)"
   ]
  },
  {
   "cell_type": "code",
   "execution_count": null,
   "id": "9bf24bdc-c3eb-4a59-8833-39cb7a7a6147",
   "metadata": {},
   "outputs": [],
   "source": []
  },
  {
   "cell_type": "code",
   "execution_count": null,
   "id": "eac374eb-7ce6-49a4-a433-0cc74b8d1e0e",
   "metadata": {},
   "outputs": [],
   "source": []
  },
  {
   "cell_type": "code",
   "execution_count": null,
   "id": "32e12032-1f17-4f33-b0bd-a2ba2ce448ec",
   "metadata": {},
   "outputs": [],
   "source": []
  },
  {
   "cell_type": "code",
   "execution_count": null,
   "id": "b4c82138-7f2b-49d2-89d9-f211422929d9",
   "metadata": {},
   "outputs": [],
   "source": []
  },
  {
   "cell_type": "code",
   "execution_count": null,
   "id": "10fb0448-763c-4302-9336-285df8c15328",
   "metadata": {},
   "outputs": [],
   "source": []
  },
  {
   "cell_type": "code",
   "execution_count": null,
   "id": "5b004643-9e02-43de-90d5-d1ca9e3a0ff0",
   "metadata": {},
   "outputs": [],
   "source": []
  },
  {
   "cell_type": "code",
   "execution_count": null,
   "id": "56cb8914-7a2f-4406-96b5-d2f0069b8371",
   "metadata": {},
   "outputs": [],
   "source": []
  }
 ],
 "metadata": {
  "kernelspec": {
   "display_name": "Python 3 (ipykernel)",
   "language": "python",
   "name": "python3"
  },
  "language_info": {
   "codemirror_mode": {
    "name": "ipython",
    "version": 3
   },
   "file_extension": ".py",
   "mimetype": "text/x-python",
   "name": "python",
   "nbconvert_exporter": "python",
   "pygments_lexer": "ipython3",
   "version": "3.12.4"
  }
 },
 "nbformat": 4,
 "nbformat_minor": 5
}
